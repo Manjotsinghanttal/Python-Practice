{
 "cells": [
  {
   "cell_type": "code",
   "execution_count": 1,
   "id": "0da20e87-f7eb-4df2-8875-cad5a2f25d79",
   "metadata": {},
   "outputs": [
    {
     "name": "stdout",
     "output_type": "stream",
     "text": [
      "The cube of 5 is 125\n"
     ]
    }
   ],
   "source": [
    "def cube(x):\n",
    "    return pow(x, 3)\n",
    "\n",
    "# Example usage\n",
    "number = 5\n",
    "result = cube(number)\n",
    "print(\"The cube of\", number, \"is\", result)\n",
    "\n"
   ]
  },
  {
   "cell_type": "code",
   "execution_count": 3,
   "id": "6cd5d9f4-04f5-483a-a197-330f4000dcfd",
   "metadata": {},
   "outputs": [
    {
     "name": "stdout",
     "output_type": "stream",
     "text": [
      "Is 90 within 10 units of 100? True\n"
     ]
    }
   ],
   "source": [
    "n = 90  \n",
    "\n",
    "number = abs(n - 100) <= 10\n",
    "\n",
    "print(\"Is\", n, \"within 10 units of 100?\", number)\n"
   ]
  },
  {
   "cell_type": "code",
   "execution_count": 9,
   "id": "a2b670e8-e911-4b54-acd9-008d6b04d1a5",
   "metadata": {},
   "outputs": [
    {
     "name": "stdout",
     "output_type": "stream",
     "text": [
      "7 is odd\n"
     ]
    }
   ],
   "source": [
    "def is_odd(n):\n",
    "    return n & 1\n",
    "\n",
    "# Example usage:\n",
    "number = 7\n",
    "if is_odd(number):\n",
    "    print(number, \"is odd\")\n",
    "else:\n",
    "    print(number, \"is even\")\n",
    "\n"
   ]
  },
  {
   "cell_type": "code",
   "execution_count": 10,
   "id": "e57b815f-4ee2-47ca-8047-bbce553b7fef",
   "metadata": {},
   "outputs": [
    {
     "name": "stdout",
     "output_type": "stream",
     "text": [
      "Reversed bits of 0b11001010101010101010101010101111 : 0b11110101010101010101010101010011\n"
     ]
    }
   ],
   "source": [
    "def reverse_bits(n):\n",
    "    reversed_bits = 0\n",
    "    for i in range(32):\n",
    "        reversed_bits = (reversed_bits << 1) | (n & 1)\n",
    "        n >>= 1\n",
    "    return reversed_bits\n",
    "\n",
    "# Example usage\n",
    "n = 0b11001010101010101010101010101111\n",
    "reversed_n = reverse_bits(n)\n",
    "print(\"Reversed bits of\", bin(n), \":\", bin(reversed_n))\n"
   ]
  },
  {
   "cell_type": "code",
   "execution_count": 11,
   "id": "568dc9bf-9ef0-4f6a-b5d7-f37d5b80e987",
   "metadata": {},
   "outputs": [
    {
     "name": "stdout",
     "output_type": "stream",
     "text": [
      "a after swapping: 10\n",
      "b after swapping: 5\n"
     ]
    }
   ],
   "source": [
    "a = 5\n",
    "b = 10\n",
    "\n",
    "a = a + b\n",
    "b = a - b\n",
    "a = a - b\n",
    "\n",
    "print(\"a after swapping:\", a)\n",
    "print(\"b after swapping:\", b)\n"
   ]
  },
  {
   "cell_type": "code",
   "execution_count": 12,
   "id": "33accd6c-4773-4d34-bd7b-80b957f1a60f",
   "metadata": {},
   "outputs": [
    {
     "name": "stdout",
     "output_type": "stream",
     "text": [
      "Are a and b approximately equal? True\n"
     ]
    }
   ],
   "source": [
    "def approximately_equal(a, b, tolerance=0.001):\n",
    "    return abs(a - b) < tolerance\n",
    "\n",
    "# Example usage\n",
    "a = 3.14159\n",
    "b = 3.142\n",
    "print(\"Are a and b approximately equal?\", approximately_equal(a, b))\n"
   ]
  },
  {
   "cell_type": "code",
   "execution_count": 13,
   "id": "e8cafc1d-54a3-4fad-8c73-d5fa43040f75",
   "metadata": {},
   "outputs": [
    {
     "name": "stdout",
     "output_type": "stream",
     "text": [
      "Is s valid? True\n"
     ]
    }
   ],
   "source": [
    "s = \"Hello\"\n",
    "is_valid = bool(s) and s[0].isupper()\n",
    "print(\"Is s valid?\", is_valid)\n"
   ]
  },
  {
   "cell_type": "code",
   "execution_count": 14,
   "id": "55b3657a-640b-40a5-a23b-8f7c39a9183e",
   "metadata": {},
   "outputs": [
    {
     "name": "stdout",
     "output_type": "stream",
     "text": [
      "Bitwise XOR of True and False : True\n"
     ]
    }
   ],
   "source": [
    "def bitwise_xor(x, y):\n",
    "    return (x and not y) or (not x and y)\n",
    "\n",
    "# Example usage\n",
    "x = True\n",
    "y = False\n",
    "print(\"Bitwise XOR of\", x, \"and\", y, \":\", bitwise_xor(x, y))\n"
   ]
  },
  {
   "cell_type": "code",
   "execution_count": 15,
   "id": "a6d1b56f-9268-41d6-a7bf-38da0d336b64",
   "metadata": {},
   "outputs": [
    {
     "name": "stdout",
     "output_type": "stream",
     "text": [
      "n divided by 2 without using division operator: 5\n"
     ]
    }
   ],
   "source": [
    "n = 10\n",
    "n >>= 1\n",
    "print(\"n divided by 2 without using division operator:\", n)\n"
   ]
  },
  {
   "cell_type": "code",
   "execution_count": 16,
   "id": "a5757f47-ce45-45b7-a29a-b2d6a0576e30",
   "metadata": {},
   "outputs": [
    {
     "name": "stdout",
     "output_type": "stream",
     "text": [
      "Is 16 a power of two? True\n"
     ]
    }
   ],
   "source": [
    "def is_power_of_two(n):\n",
    "    return n != 0 and (n & (n - 1)) == 0\n",
    "\n",
    "# Example usage\n",
    "number = 16\n",
    "print(\"Is\", number, \"a power of two?\", is_power_of_two(number))\n"
   ]
  },
  {
   "cell_type": "code",
   "execution_count": 17,
   "id": "80cf129f-de05-4d58-8501-934376baeb29",
   "metadata": {},
   "outputs": [
    {
     "name": "stdout",
     "output_type": "stream",
     "text": [
      "Result: True\n"
     ]
    }
   ],
   "source": [
    "a = 5\n",
    "b = 5\n",
    "result = not (a < b) and not (a > b) == (a == b)\n",
    "print(\"Result:\", result)\n"
   ]
  },
  {
   "cell_type": "code",
   "execution_count": 18,
   "id": "a6d12f7a-acc3-41b5-9ea6-d0df446567c0",
   "metadata": {},
   "outputs": [
    {
     "name": "stdout",
     "output_type": "stream",
     "text": [
      "Result: 3.0\n"
     ]
    }
   ],
   "source": [
    "result = 3 ** 2 // 2 * 3 / 3 - 1\n",
    "print(\"Result:\", result)\n"
   ]
  },
  {
   "cell_type": "code",
   "execution_count": 19,
   "id": "2f9d07d0-c9c6-4a8c-817a-34bb832a70f9",
   "metadata": {},
   "outputs": [
    {
     "name": "stdout",
     "output_type": "stream",
     "text": [
      "Rotated bits: 0b11001110\n"
     ]
    }
   ],
   "source": [
    "n = 0b10110011\n",
    "rotated = (n << 2 | n >> (8 - 2)) & 0xFF\n",
    "print(\"Rotated bits:\", bin(rotated))\n"
   ]
  },
  {
   "cell_type": "markdown",
   "id": "47f8cfa4-9e39-4445-9143-4c812b555a75",
   "metadata": {},
   "source": [
    "output = 1 * 2 + 0 // 3\n",
    "       = 2 + 0\n",
    "       = 2\n"
   ]
  },
  {
   "cell_type": "code",
   "execution_count": 21,
   "id": "c8683d30-8b47-4687-a920-9992b74e7049",
   "metadata": {},
   "outputs": [
    {
     "name": "stdout",
     "output_type": "stream",
     "text": [
      "XOR of True and False : True\n"
     ]
    }
   ],
   "source": [
    "def xor(a, b):\n",
    "    return (a or b) and not (a and b)\n",
    "\n",
    "# Example usage\n",
    "x = True\n",
    "y = False\n",
    "print(\"XOR of\", x, \"and\", y, \":\", xor(x, y))\n"
   ]
  },
  {
   "cell_type": "code",
   "execution_count": 22,
   "id": "13112b8c-4773-4a85-8458-af76b4fe25c9",
   "metadata": {},
   "outputs": [
    {
     "name": "stdout",
     "output_type": "stream",
     "text": [
      "Is 16 a power of two? True\n"
     ]
    }
   ],
   "source": [
    "def is_power_of_two(n):\n",
    "    return n != 0 and (n & (n - 1)) == 0\n",
    "\n",
    "# Example usage\n",
    "number = 16\n",
    "print(\"Is\", number, \"a power of two?\", is_power_of_two(number))\n"
   ]
  },
  {
   "cell_type": "code",
   "execution_count": 23,
   "id": "ab2e61dc-bc6f-45b2-af87-4e5b026665a8",
   "metadata": {},
   "outputs": [
    {
     "name": "stdout",
     "output_type": "stream",
     "text": [
      "a after swapping: 5\n",
      "b after swapping: 3\n"
     ]
    }
   ],
   "source": [
    "a = 3\n",
    "b = 5\n",
    "\n",
    "a ^= b\n",
    "b ^= a\n",
    "a ^= b\n",
    "\n",
    "print(\"a after swapping:\", a)\n",
    "print(\"b after swapping:\", b)\n"
   ]
  },
  {
   "cell_type": "code",
   "execution_count": 24,
   "id": "5a4eae1b-1a9b-4f68-b2ec-89c62a99c9b3",
   "metadata": {},
   "outputs": [
    {
     "name": "stdout",
     "output_type": "stream",
     "text": [
      "Do 4 and 9 have opposite signs? False\n"
     ]
    }
   ],
   "source": [
    "a = 4\n",
    "b = 9\n",
    "\n",
    "have_opposite_signs = (a ^ b) < 0\n",
    "print(\"Do\", a, \"and\", b, \"have opposite signs?\", have_opposite_signs)\n"
   ]
  },
  {
   "cell_type": "code",
   "execution_count": 25,
   "id": "994dc56e-2259-4cfb-8de9-98034584965d",
   "metadata": {},
   "outputs": [
    {
     "name": "stdout",
     "output_type": "stream",
     "text": [
      "Reversed bits: 0b101011\n"
     ]
    }
   ],
   "source": [
    "binary_number = 0b11010100\n",
    "reversed_number = int(bin(binary_number)[:1:-1].ljust(8, '0'), 2)\n",
    "print(\"Reversed bits:\", bin(reversed_number))\n"
   ]
  },
  {
   "cell_type": "code",
   "execution_count": 26,
   "id": "e02de10a-bec5-46ca-b0ce-4b4ac4df6e86",
   "metadata": {},
   "outputs": [
    {
     "name": "stdout",
     "output_type": "stream",
     "text": [
      "Remainder of 1234 divided by 100: 34\n"
     ]
    }
   ],
   "source": [
    "remainder = 1234 - (100 * (1234 // 100))\n",
    "print(\"Remainder of 1234 divided by 100:\", remainder)\n"
   ]
  },
  {
   "cell_type": "code",
   "execution_count": 28,
   "id": "141bc434-7926-4462-95e7-b1af8e6168f8",
   "metadata": {},
   "outputs": [
    {
     "name": "stdout",
     "output_type": "stream",
     "text": [
      "True\n",
      "True\n",
      "True\n",
      "False\n"
     ]
    }
   ],
   "source": [
    "def is_sum_even(a, b):\n",
    "    return (a + b) & 1 == 0\n",
    "\n",
    "# Example\n",
    "print(is_sum_even(3, 5))  # True\n",
    "print(is_sum_even(2, 4))  # True\n",
    "print(is_sum_even(7, 9))  # True\n",
    "print(is_sum_even(1, 4))  # False\n"
   ]
  },
  {
   "cell_type": "code",
   "execution_count": 29,
   "id": "7bd29bbd-b368-4bec-9155-6c5a67ce5870",
   "metadata": {},
   "outputs": [
    {
     "name": "stdout",
     "output_type": "stream",
     "text": [
      "True\n",
      "False\n",
      "False\n",
      "False\n"
     ]
    }
   ],
   "source": [
    "def is_positive_even(num):\n",
    "    return num > 0 and num % 2 == 0\n",
    "\n",
    "# Example\n",
    "print(is_positive_even(6))   # True\n",
    "print(is_positive_even(-8))  # False\n",
    "print(is_positive_even(3))   # False\n",
    "print(is_positive_even(0))   # False\n"
   ]
  },
  {
   "cell_type": "code",
   "execution_count": 30,
   "id": "e5469a44-0513-4699-82f5-33bfa92331f7",
   "metadata": {},
   "outputs": [
    {
     "name": "stdout",
     "output_type": "stream",
     "text": [
      "True\n",
      "False\n",
      "False\n"
     ]
    }
   ],
   "source": [
    "def xor_boolean(a, b):\n",
    "    return (a and not b) or (not a and b)\n",
    "\n",
    "# Example\n",
    "print(xor_boolean(True, False))  # True\n",
    "print(xor_boolean(False, False)) # False\n",
    "print(xor_boolean(True, True))   # False\n"
   ]
  },
  {
   "cell_type": "code",
   "execution_count": 31,
   "id": "9aa311f7-dc2e-4a23-9f3c-c47dd48019b3",
   "metadata": {},
   "outputs": [
    {
     "name": "stdout",
     "output_type": "stream",
     "text": [
      "True\n",
      "False\n",
      "False\n"
     ]
    }
   ],
   "source": [
    "def is_first_element_true(lst):\n",
    "    return bool(lst) and lst[0]\n",
    "\n",
    "# Example\n",
    "print(is_first_element_true([True, False]))  # True\n",
    "print(is_first_element_true([False, True]))  # False\n",
    "print(is_first_element_true([]))             # False\n"
   ]
  },
  {
   "cell_type": "code",
   "execution_count": 32,
   "id": "b9a12dbc-61d9-4ef1-9386-b43c33d49dbd",
   "metadata": {},
   "outputs": [
    {
     "name": "stdout",
     "output_type": "stream",
     "text": [
      "True\n",
      "True\n",
      "False\n"
     ]
    }
   ],
   "source": [
    "def is_integer_part_odd(num):\n",
    "    return int(num) % 2 != 0\n",
    "\n",
    "# Example\n",
    "print(is_integer_part_odd(3.14))  # False\n",
    "print(is_integer_part_odd(5.67))  # True\n",
    "print(is_integer_part_odd(2.0))   # False\n"
   ]
  },
  {
   "cell_type": "code",
   "execution_count": 33,
   "id": "97da3943-30da-45fa-8aa4-646bee866986",
   "metadata": {},
   "outputs": [
    {
     "name": "stdout",
     "output_type": "stream",
     "text": [
      "True\n",
      "False\n",
      "True\n"
     ]
    }
   ],
   "source": [
    "def at_least_one_true(a, b, c):\n",
    "    return a or b or c\n",
    "\n",
    "# Example\n",
    "print(at_least_one_true(True, False, False))  # True\n",
    "print(at_least_one_true(False, False, False)) # False\n",
    "print(at_least_one_true(False, True, False))  # True\n"
   ]
  },
  {
   "cell_type": "code",
   "execution_count": 34,
   "id": "8fccba39-26c2-4304-9968-7a6c74dbda7b",
   "metadata": {},
   "outputs": [
    {
     "name": "stdout",
     "output_type": "stream",
     "text": [
      "True\n",
      "False\n",
      "\n"
     ]
    }
   ],
   "source": [
    "def is_first_char_upper(s):\n",
    "    return s and s[0].isupper()\n",
    "\n",
    "# Example\n",
    "print(is_first_char_upper(\"Hello\"))  # True\n",
    "print(is_first_char_upper(\"world\"))  # False\n",
    "print(is_first_char_upper(\"\"))       # False\n"
   ]
  },
  {
   "cell_type": "code",
   "execution_count": 35,
   "id": "f090e1f5-c3b8-4925-b2d5-0209ff6c2da6",
   "metadata": {},
   "outputs": [
    {
     "name": "stdout",
     "output_type": "stream",
     "text": [
      "False\n",
      "False\n",
      "False\n"
     ]
    }
   ],
   "source": [
    "def are_complementary_binary(num1, num2):\n",
    "    return bin(num1 ^ num2).count('1') == 1\n",
    "\n",
    "# Example\n",
    "print(are_complementary_binary(5, 10))   # True\n",
    "print(are_complementary_binary(3, 6))    # False\n",
    "print(are_complementary_binary(8, 16))   # False\n"
   ]
  },
  {
   "cell_type": "code",
   "execution_count": 36,
   "id": "9fcc5fc9-4b50-4ca1-bc7a-2670076a1f5f",
   "metadata": {},
   "outputs": [
    {
     "name": "stdout",
     "output_type": "stream",
     "text": [
      "True\n",
      "False\n",
      "False\n"
     ]
    }
   ],
   "source": [
    "def not_divisible_by_2_or_3(n):\n",
    "    return n % 2 != 0 and n % 3 != 0\n",
    "\n",
    "# Example\n",
    "print(not_divisible_by_2_or_3(7))   # True\n",
    "print(not_divisible_by_2_or_3(12))  # False\n",
    "print(not_divisible_by_2_or_3(9))   # False\n"
   ]
  },
  {
   "cell_type": "code",
   "execution_count": 37,
   "id": "2428832e-ca37-4a63-86fc-8e554edd9e3c",
   "metadata": {},
   "outputs": [
    {
     "name": "stdout",
     "output_type": "stream",
     "text": [
      "True\n",
      "False\n",
      "False\n"
     ]
    }
   ],
   "source": [
    "def is_prime(n):\n",
    "    if n <= 1:\n",
    "        return False\n",
    "    for i in range(2, int(n ** 0.5) + 1):\n",
    "        if n % i == 0:\n",
    "            return False\n",
    "    return True\n",
    "\n",
    "def is_length_prime(s):\n",
    "    return len(s) > 5 and is_prime(len(s))\n",
    "\n",
    "# Example\n",
    "print(is_length_prime(\"abcdefg\"))   # True\n",
    "print(is_length_prime(\"python\"))    # False\n",
    "print(is_length_prime(\"openai\"))    # True\n"
   ]
  },
  {
   "cell_type": "code",
   "execution_count": 38,
   "id": "6ac54198-4f24-47e7-8901-09e8ab1030f5",
   "metadata": {},
   "outputs": [
    {
     "name": "stdout",
     "output_type": "stream",
     "text": [
      "True\n",
      "False\n",
      "True\n"
     ]
    }
   ],
   "source": [
    "def at_least_two_true(a, b, c):\n",
    "    return (a and b) or (a and c) or (b and c)\n",
    "\n",
    "# Example\n",
    "print(at_least_two_true(True, False, True))  # True\n",
    "print(at_least_two_true(False, True, False)) # False\n",
    "print(at_least_two_true(True, True, True))    # True\n"
   ]
  },
  {
   "cell_type": "code",
   "execution_count": 39,
   "id": "48d53c05-8d69-48fe-8954-77cbf108482a",
   "metadata": {},
   "outputs": [
    {
     "name": "stdout",
     "output_type": "stream",
     "text": [
      "True\n",
      "False\n",
      "False\n"
     ]
    }
   ],
   "source": [
    "def is_valid_string(s):\n",
    "    return s.strip() != \"\"\n",
    "\n",
    "# Example\n",
    "print(is_valid_string(\"   hello  \"))  # True\n",
    "print(is_valid_string(\"\"))            # False\n",
    "print(is_valid_string(\"    \"))        # False\n"
   ]
  },
  {
   "cell_type": "code",
   "execution_count": 40,
   "id": "8bdea3ca-7fdf-430a-8277-e42478c3b156",
   "metadata": {},
   "outputs": [
    {
     "name": "stdout",
     "output_type": "stream",
     "text": [
      "True\n",
      "True\n",
      "False\n"
     ]
    }
   ],
   "source": [
    "def is_right_triangle(a, b, c):\n",
    "    sides = [a, b, c]\n",
    "    sides.sort()\n",
    "    return sides[0]**2 + sides[1]**2 == sides[2]**2\n",
    "\n",
    "# Example\n",
    "print(is_right_triangle(3, 4, 5))  # True\n",
    "print(is_right_triangle(5, 12, 13)) # True\n",
    "print(is_right_triangle(1, 2, 3))   # False\n"
   ]
  },
  {
   "cell_type": "code",
   "execution_count": 41,
   "id": "ca5b18ac-1da1-4992-939f-691fe2a5ddd2",
   "metadata": {},
   "outputs": [
    {
     "name": "stdout",
     "output_type": "stream",
     "text": [
      "True\n",
      "False\n",
      "False\n"
     ]
    }
   ],
   "source": [
    "def in_range(num):\n",
    "    return 5 <= num <= 10\n",
    "\n",
    "# Example\n",
    "print(in_range(7))   # True\n",
    "print(in_range(11))  # False\n",
    "print(in_range(4))   # False\n"
   ]
  },
  {
   "cell_type": "code",
   "execution_count": 42,
   "id": "48f69d1e-2245-486f-bbe4-b64b777bbba9",
   "metadata": {},
   "outputs": [
    {
     "name": "stdout",
     "output_type": "stream",
     "text": [
      "True\n",
      "False\n",
      "False\n"
     ]
    }
   ],
   "source": [
    "def is_uppercase_alphabetic(s):\n",
    "    return s.isalpha() and s.isupper()\n",
    "\n",
    "# Example\n",
    "print(is_uppercase_alphabetic(\"HELLO\"))   # True\n",
    "print(is_uppercase_alphabetic(\"Hello\"))   # False\n",
    "print(is_uppercase_alphabetic(\"123\"))     # False\n"
   ]
  },
  {
   "cell_type": "code",
   "execution_count": 43,
   "id": "a1a12c71-3dde-4b9d-9e5c-efe74fe4be9f",
   "metadata": {},
   "outputs": [
    {
     "name": "stdout",
     "output_type": "stream",
     "text": [
      "True\n",
      "False\n",
      "False\n"
     ]
    }
   ],
   "source": [
    "def is_power_of_two(num):\n",
    "    return num != 0 and (num & (num - 1)) == 0\n",
    "\n",
    "# Example\n",
    "print(is_power_of_two(16))  # True\n",
    "print(is_power_of_two(5))   # False\n",
    "print(is_power_of_two(0))   # False\n"
   ]
  },
  {
   "cell_type": "code",
   "execution_count": 45,
   "id": "bf11db42-4e96-4472-bd45-1f22fee947b8",
   "metadata": {},
   "outputs": [
    {
     "name": "stdout",
     "output_type": "stream",
     "text": [
      "True\n",
      "True\n",
      "False\n",
      "False\n"
     ]
    }
   ],
   "source": [
    "def exactly_one_true(a, b):\n",
    "    return (a and not b) or (b and not a)\n",
    "\n",
    "# Examples\n",
    "print(exactly_one_true(True, False))  # True\n",
    "print(exactly_one_true(False, True))  # True\n",
    "print(exactly_one_true(True, True))   # False\n",
    "print(exactly_one_true(False, False)) # False\n",
    "\n"
   ]
  },
  {
   "cell_type": "code",
   "execution_count": 46,
   "id": "02294cd7-0a0f-47f1-8221-45355552739d",
   "metadata": {},
   "outputs": [
    {
     "name": "stdout",
     "output_type": "stream",
     "text": [
      "dlrow olleh\n"
     ]
    }
   ],
   "source": [
    "def reverse_string(string):\n",
    "    reversed_string = ''\n",
    "    for char in string:\n",
    "        reversed_string = char + reversed_string\n",
    "    return reversed_string\n",
    "\n",
    "# Example\n",
    "print(reverse_string(\"hello world\"))\n"
   ]
  },
  {
   "cell_type": "code",
   "execution_count": 47,
   "id": "e969f4e7-5a41-43d2-ab7f-27100adf3800",
   "metadata": {},
   "outputs": [
    {
     "name": "stdout",
     "output_type": "stream",
     "text": [
      "True\n"
     ]
    }
   ],
   "source": [
    "def is_palindrome(string):\n",
    "    return string == string[::-1]\n",
    "\n",
    "# Example\n",
    "print(is_palindrome(\"radar\"))  # True\n"
   ]
  },
  {
   "cell_type": "code",
   "execution_count": 48,
   "id": "c1b74573-75dc-445d-ad27-dddd41de1843",
   "metadata": {},
   "outputs": [
    {
     "name": "stdout",
     "output_type": "stream",
     "text": [
      "Hello World\n"
     ]
    }
   ],
   "source": [
    "def capitalize_words(string):\n",
    "    return ' '.join(word.capitalize() for word in string.split())\n",
    "\n",
    "# Example\n",
    "print(capitalize_words(\"hello world\"))\n"
   ]
  },
  {
   "cell_type": "code",
   "execution_count": 49,
   "id": "d1e71bd2-e914-4bf9-b824-adb2898f579b",
   "metadata": {},
   "outputs": [
    {
     "name": "stdout",
     "output_type": "stream",
     "text": [
      "e\n"
     ]
    }
   ],
   "source": [
    "def first_non_repeated_char(string):\n",
    "    for char in string:\n",
    "        if string.count(char) == 1:\n",
    "            return char\n",
    "    return None\n",
    "\n",
    "# Example\n",
    "print(first_non_repeated_char(\"abacddbec\"))  # e\n"
   ]
  },
  {
   "cell_type": "code",
   "execution_count": 50,
   "id": "b0717891-d12d-4e00-862a-657ab19292d1",
   "metadata": {},
   "outputs": [
    {
     "name": "stdout",
     "output_type": "stream",
     "text": [
      "123\n"
     ]
    }
   ],
   "source": [
    "def string_to_int(string):\n",
    "    num = 0\n",
    "    for digit in string:\n",
    "        num = num * 10 + (ord(digit) - ord('0'))\n",
    "    return num\n",
    "\n",
    "# Example\n",
    "print(string_to_int(\"123\"))\n"
   ]
  },
  {
   "cell_type": "code",
   "execution_count": 51,
   "id": "969d275a-b5a0-4bfd-898e-643d07d91ebc",
   "metadata": {},
   "outputs": [
    {
     "name": "stdout",
     "output_type": "stream",
     "text": [
      "True\n"
     ]
    }
   ],
   "source": [
    "def is_anagram(str1, str2):\n",
    "    return sorted(str1) == sorted(str2)\n",
    "\n",
    "# Example\n",
    "print(is_anagram(\"listen\", \"silent\"))  # True\n"
   ]
  },
  {
   "cell_type": "code",
   "execution_count": 52,
   "id": "cf112337-69fb-4815-8f3d-97b57aeadf5a",
   "metadata": {},
   "outputs": [
    {
     "name": "stdout",
     "output_type": "stream",
     "text": [
      "btfl dy\n"
     ]
    }
   ],
   "source": [
    "def remove_vowels(string):\n",
    "    vowels = \"aeiouAEIOU\"\n",
    "    return ''.join(char for char in string if char not in vowels)\n",
    "\n",
    "# Example\n",
    "print(remove_vowels(\"beautiful day\"))\n"
   ]
  },
  {
   "cell_type": "code",
   "execution_count": 53,
   "id": "fa0e6adf-9ff6-4ab4-a155-a363e5e3714b",
   "metadata": {},
   "outputs": [
    {
     "name": "stdout",
     "output_type": "stream",
     "text": [
      "11\n"
     ]
    }
   ],
   "source": [
    "def longest_word_length(string):\n",
    "    words = string.split()\n",
    "    longest_word = max(words, key=len)\n",
    "    return len(longest_word)\n",
    "\n",
    "# Example\n",
    "print(longest_word_length(\"hello world programming\"))  # 11\n"
   ]
  },
  {
   "cell_type": "code",
   "execution_count": 54,
   "id": "b5a46102-4407-475b-b3ad-baab44b94d9d",
   "metadata": {},
   "outputs": [
    {
     "name": "stdout",
     "output_type": "stream",
     "text": [
      "HelloWorld\n"
     ]
    }
   ],
   "source": [
    "def to_camel_case(string):\n",
    "    return ''.join(word.capitalize() for word in string.split('_'))\n",
    "\n",
    "# Example\n",
    "print(to_camel_case(\"hello_world\"))\n"
   ]
  },
  {
   "cell_type": "code",
   "execution_count": 55,
   "id": "e1e36b05-de8d-431d-be56-a9757aacf6c4",
   "metadata": {},
   "outputs": [
    {
     "name": "stdout",
     "output_type": "stream",
     "text": [
      "jgnnq\n"
     ]
    }
   ],
   "source": [
    "def encode_string(string, shift):\n",
    "    encoded = ''\n",
    "    for char in string:\n",
    "        if char.isalpha():\n",
    "            shifted = chr(((ord(char) - ord('a') + shift) % 26) + ord('a')) if char.islower() else chr(((ord(char) - ord('A') + shift) % 26) + ord('A'))\n",
    "            encoded += shifted\n",
    "        else:\n",
    "            encoded += char\n",
    "    return encoded\n",
    "\n",
    "# Example\n",
    "print(encode_string(\"hello\", 2))\n"
   ]
  },
  {
   "cell_type": "code",
   "execution_count": 56,
   "id": "7f55c8c3-2c43-4622-8279-aea639c20313",
   "metadata": {},
   "outputs": [
    {
     "name": "stdout",
     "output_type": "stream",
     "text": [
      "great is Python\n"
     ]
    }
   ],
   "source": [
    "def reverse_words(sentence):\n",
    "    words = sentence.split()\n",
    "    reversed_sentence = ' '.join(reversed(words))\n",
    "    return reversed_sentence\n",
    "\n",
    "# Example\n",
    "print(reverse_words(\"Python is great\"))\n"
   ]
  },
  {
   "cell_type": "code",
   "execution_count": 57,
   "id": "36fba4d1-3cef-404e-b800-9ab61ba7915c",
   "metadata": {},
   "outputs": [
    {
     "name": "stdout",
     "output_type": "stream",
     "text": [
      "3\n"
     ]
    }
   ],
   "source": [
    "def count_vowels(string):\n",
    "    vowels = \"aeiouAEIOU\"\n",
    "    return sum(1 for char in string if char in vowels)\n",
    "\n",
    "# Example\n",
    "print(count_vowels(\"Hello World\"))\n"
   ]
  },
  {
   "cell_type": "code",
   "execution_count": 58,
   "id": "c98c118a-3d68-428c-9b0c-7b0f81e04114",
   "metadata": {},
   "outputs": [
    {
     "name": "stdout",
     "output_type": "stream",
     "text": [
      "effective\n"
     ]
    }
   ],
   "source": [
    "def longest_word(string):\n",
    "    words = string.split()\n",
    "    return max(words, key=len)\n",
    "\n",
    "# Example\n",
    "print(longest_word(\"Python is simple and effective\"))\n"
   ]
  },
  {
   "cell_type": "code",
   "execution_count": 59,
   "id": "656a3668-d34d-437e-908d-c78028a9915b",
   "metadata": {},
   "outputs": [
    {
     "name": "stdout",
     "output_type": "stream",
     "text": [
      "ab*de*gh*jk\n"
     ]
    }
   ],
   "source": [
    "def replace_third_char(string):\n",
    "    replaced_string = ''\n",
    "    for i, char in enumerate(string):\n",
    "        if (i + 1) % 3 == 0:\n",
    "            replaced_string += '*'\n",
    "        else:\n",
    "            replaced_string += char\n",
    "    return replaced_string\n",
    "\n",
    "# Example\n",
    "print(replace_third_char(\"abcdefghijk\"))\n"
   ]
  },
  {
   "cell_type": "code",
   "execution_count": 60,
   "id": "f85ab3ac-ba8d-43ea-afae-45523db8c446",
   "metadata": {},
   "outputs": [
    {
     "name": "stdout",
     "output_type": "stream",
     "text": [
      "True\n"
     ]
    }
   ],
   "source": [
    "def is_alphanumeric(string):\n",
    "    return all(char.isalnum() for char in string)\n",
    "\n",
    "# Example\n",
    "print(is_alphanumeric(\"abc123\"))  # True\n"
   ]
  },
  {
   "cell_type": "code",
   "execution_count": 61,
   "id": "f885ab29-eb57-4e37-9b82-c382271b7c18",
   "metadata": {},
   "outputs": [
    {
     "name": "stdout",
     "output_type": "stream",
     "text": [
      "acegi\n"
     ]
    }
   ],
   "source": [
    "def even_indices(string):\n",
    "    return ''.join(string[i] for i in range(len(string)) if i % 2 == 0)\n",
    "\n",
    "# Example\n",
    "print(even_indices(\"abcdefghi\"))\n"
   ]
  },
  {
   "cell_type": "code",
   "execution_count": 62,
   "id": "529557c4-c3ba-4523-ba59-11c4dccf340c",
   "metadata": {},
   "outputs": [
    {
     "name": "stdout",
     "output_type": "stream",
     "text": [
      "ifmmp\n"
     ]
    }
   ],
   "source": [
    "def encode_string(string):\n",
    "    encoded = ''\n",
    "    for char in string:\n",
    "        encoded += chr(ord(char) + 1)\n",
    "    return encoded\n",
    "\n",
    "# Example\n",
    "print(encode_string(\"hello\"))\n"
   ]
  },
  {
   "cell_type": "code",
   "execution_count": 63,
   "id": "12174a12-f429-46b2-ab06-e523ac72e612",
   "metadata": {},
   "outputs": [
    {
     "name": "stdout",
     "output_type": "stream",
     "text": [
      "[1, 2, 3]\n"
     ]
    }
   ],
   "source": [
    "string_list = [\"1\", \"2\", \"3\"]\n",
    "integer_list = list(map(int, string_list))\n",
    "print(integer_list)\n"
   ]
  },
  {
   "cell_type": "code",
   "execution_count": 64,
   "id": "992dc26b-df4e-4b7d-9bcd-60df65b2762d",
   "metadata": {},
   "outputs": [
    {
     "name": "stdout",
     "output_type": "stream",
     "text": [
      "123_456\n"
     ]
    }
   ],
   "source": [
    "float_num = 123.456\n",
    "string_num = str(float_num).replace('.', '_')\n",
    "print(string_num)\n"
   ]
  },
  {
   "cell_type": "code",
   "execution_count": 65,
   "id": "0bd178e0-c2a4-4762-ba5c-eb352f983932",
   "metadata": {},
   "outputs": [
    {
     "name": "stdout",
     "output_type": "stream",
     "text": [
      "123\n"
     ]
    }
   ],
   "source": [
    "tuple_value = (1, 2, 3)\n",
    "string_value = ''.join(map(str, tuple_value))\n",
    "print(string_value)\n"
   ]
  },
  {
   "cell_type": "code",
   "execution_count": 66,
   "id": "1961662f-b508-49c2-9e35-bd2761f24d68",
   "metadata": {},
   "outputs": [
    {
     "name": "stdout",
     "output_type": "stream",
     "text": [
      "10\n"
     ]
    }
   ],
   "source": [
    "binary_string = \"1010\"\n",
    "integer_value = int(binary_string, 2)\n",
    "print(integer_value)\n"
   ]
  },
  {
   "cell_type": "code",
   "execution_count": 67,
   "id": "da65e0f1-ddb5-4aa2-9b09-01efad83ebd7",
   "metadata": {},
   "outputs": [
    {
     "name": "stdout",
     "output_type": "stream",
     "text": [
      "123.46\n"
     ]
    }
   ],
   "source": [
    "string_value = \"123.456\"\n",
    "float_value = float(string_value)\n",
    "rounded_value = round(float_value, 2)\n",
    "print(rounded_value)\n"
   ]
  },
  {
   "cell_type": "code",
   "execution_count": 68,
   "id": "d2361d21-7c7d-4ac0-bc6b-2b153a804d30",
   "metadata": {},
   "outputs": [
    {
     "name": "stdout",
     "output_type": "stream",
     "text": [
      "97\n"
     ]
    }
   ],
   "source": [
    "char = 'a'\n",
    "ascii_value = ord(char)\n",
    "print(ascii_value)\n"
   ]
  },
  {
   "cell_type": "code",
   "execution_count": 69,
   "id": "25dba80b-1083-4074-82e6-042fb0392c01",
   "metadata": {},
   "outputs": [
    {
     "name": "stdout",
     "output_type": "stream",
     "text": [
      "A\n"
     ]
    }
   ],
   "source": [
    "integer_value = 65\n",
    "char = chr(integer_value)\n",
    "print(char)\n"
   ]
  },
  {
   "cell_type": "code",
   "execution_count": 70,
   "id": "f231b44c-f15f-49ae-a940-e11d39dc6c3a",
   "metadata": {},
   "outputs": [
    {
     "name": "stdout",
     "output_type": "stream",
     "text": [
      "26\n"
     ]
    }
   ],
   "source": [
    "hex_string = '0x1a'\n",
    "integer_value = int(hex_string, 16)\n",
    "print(integer_value)\n"
   ]
  },
  {
   "cell_type": "code",
   "execution_count": 71,
   "id": "58a0a7b6-0f86-4c69-b2b6-746045897562",
   "metadata": {},
   "outputs": [
    {
     "name": "stdout",
     "output_type": "stream",
     "text": [
      "[1, 2, 3]\n"
     ]
    }
   ],
   "source": [
    "original_list = [1, 2, 3]\n",
    "string_representation = ','.join(map(str, original_list))\n",
    "converted_list = list(map(int, string_representation.split(',')))\n",
    "print(converted_list)\n"
   ]
  },
  {
   "cell_type": "code",
   "execution_count": 72,
   "id": "f6fd4c20-9efb-4647-a4e1-e54b1a11cc1b",
   "metadata": {},
   "outputs": [
    {
     "name": "stdout",
     "output_type": "stream",
     "text": [
      "(1+2j)\n"
     ]
    }
   ],
   "source": [
    "complex_string = \"1+2j\"\n",
    "complex_value = complex(complex_string)\n",
    "print(complex_value)\n"
   ]
  },
  {
   "cell_type": "code",
   "execution_count": 73,
   "id": "595fbf9c-3142-490d-869a-d02b5eaf00d5",
   "metadata": {},
   "outputs": [
    {
     "name": "stdout",
     "output_type": "stream",
     "text": [
      "123\n"
     ]
    }
   ],
   "source": [
    "string_value = \"123.456\"\n",
    "integer_value = int(float(string_value))\n",
    "print(integer_value)\n"
   ]
  },
  {
   "cell_type": "code",
   "execution_count": 74,
   "id": "bd4b371a-db4c-4dd4-9738-53ca1ad30b42",
   "metadata": {},
   "outputs": [
    {
     "name": "stdout",
     "output_type": "stream",
     "text": [
      "123_456\n"
     ]
    }
   ],
   "source": [
    "float_value = 123.456\n",
    "string_value = '{:.3f}'.format(float_value).replace('.', '_')\n",
    "print(string_value)\n"
   ]
  },
  {
   "cell_type": "code",
   "execution_count": 75,
   "id": "2995ec87-078d-46c6-90ad-ccf50e25c007",
   "metadata": {},
   "outputs": [
    {
     "name": "stdout",
     "output_type": "stream",
     "text": [
      "True False\n"
     ]
    }
   ],
   "source": [
    "true_string = \"True\"\n",
    "false_string = \"False\"\n",
    "true_value = true_string.lower() == 'true'\n",
    "false_value = false_string.lower() == 'true'\n",
    "print(true_value, false_value)\n"
   ]
  },
  {
   "cell_type": "code",
   "execution_count": 76,
   "id": "03341373-55f4-4b8d-8403-bae19a1d92e4",
   "metadata": {},
   "outputs": [
    {
     "name": "stdout",
     "output_type": "stream",
     "text": [
      "[1, 2, 3, 4]\n"
     ]
    }
   ],
   "source": [
    "mixed_list = [1, 2, '3', '4']\n",
    "integer_list = [int(x) for x in mixed_list]\n",
    "print(integer_list)\n"
   ]
  },
  {
   "cell_type": "code",
   "execution_count": 77,
   "id": "047f88ba-97fb-470c-8bd6-5d18a07006c2",
   "metadata": {},
   "outputs": [
    {
     "name": "stdout",
     "output_type": "stream",
     "text": [
      "123\n"
     ]
    }
   ],
   "source": [
    "string_value = \"123abc\"\n",
    "integer_value = int(''.join(filter(str.isdigit, string_value)))\n",
    "print(integer_value)\n"
   ]
  },
  {
   "cell_type": "code",
   "execution_count": 78,
   "id": "4c241289-37d4-43c3-ad3d-feab422da68e",
   "metadata": {},
   "outputs": [
    {
     "name": "stdout",
     "output_type": "stream",
     "text": [
      "11010\n"
     ]
    }
   ],
   "source": [
    "hex_string = \"1a\"\n",
    "integer_value = int(hex_string, 16)\n",
    "binary_string = bin(integer_value)[2:]\n",
    "print(binary_string)\n"
   ]
  },
  {
   "cell_type": "code",
   "execution_count": 79,
   "id": "93f550fa-e6ca-47f4-ac17-c79e0c738a49",
   "metadata": {},
   "outputs": [
    {
     "name": "stdout",
     "output_type": "stream",
     "text": [
      "1.0\n"
     ]
    }
   ],
   "source": [
    "boolean_value = True\n",
    "integer_value = int(boolean_value)\n",
    "string_value = str(integer_value)\n",
    "float_value = float(string_value)\n",
    "print(float_value)\n"
   ]
  },
  {
   "cell_type": "code",
   "execution_count": 80,
   "id": "1475e430-ed67-41bf-a37b-7049a5434ce3",
   "metadata": {},
   "outputs": [
    {
     "name": "stdout",
     "output_type": "stream",
     "text": [
      "(1, 2, 3)\n"
     ]
    }
   ],
   "source": [
    "tuple_value = (1, 2, 3)\n",
    "list_value = list(tuple_value)\n",
    "string_value = ','.join(map(str, list_value))\n",
    "tuple_value_back = tuple(map(int, string_value.split(',')))\n",
    "print(tuple_value_back)\n"
   ]
  },
  {
   "cell_type": "code",
   "execution_count": 81,
   "id": "e54e8dab-eb53-4ff1-8527-b9a26787e3a4",
   "metadata": {},
   "outputs": [
    {
     "name": "stdout",
     "output_type": "stream",
     "text": [
      "123.5\n"
     ]
    }
   ],
   "source": [
    "float_value = 123.456\n",
    "formatted_string = '{:.1f}'.format(float_value)\n",
    "print(formatted_string)\n"
   ]
  },
  {
   "cell_type": "code",
   "execution_count": 83,
   "id": "fbfad6ca-72d3-4066-ac97-152b04062cc0",
   "metadata": {},
   "outputs": [
    {
     "name": "stdout",
     "output_type": "stream",
     "text": [
      "Integer part: 123\n",
      "Decimal part: 456\n"
     ]
    }
   ],
   "source": [
    "float_value = 123.456\n",
    "\n",
    "# Extract integer part\n",
    "integer_part = int(float_value)\n",
    "\n",
    "# Extract decimal part\n",
    "decimal_part = int((float_value - integer_part) * 1000)\n",
    "\n",
    "# Display the results\n",
    "print(\"Integer part:\", integer_part)\n",
    "print(\"Decimal part:\", decimal_part)\n",
    "\n"
   ]
  },
  {
   "cell_type": "code",
   "execution_count": 84,
   "id": "2581732b-d5d1-486a-bdee-eb54c056ba10",
   "metadata": {},
   "outputs": [
    {
     "name": "stdout",
     "output_type": "stream",
     "text": [
      "123.0\n"
     ]
    }
   ],
   "source": [
    "float_num = 123.456\n",
    "int_num = float_num // 1\n",
    "print(int_num)\n"
   ]
  },
  {
   "cell_type": "code",
   "execution_count": 85,
   "id": "6ebe2659-2f9b-4e24-8331-d3406e672fe4",
   "metadata": {},
   "outputs": [
    {
     "name": "stdout",
     "output_type": "stream",
     "text": [
      "123.46\n"
     ]
    }
   ],
   "source": [
    "float_num = 123.456\n",
    "rounded_num = int(float_num * 100 + 0.5) / 100\n",
    "print(rounded_num)\n"
   ]
  },
  {
   "cell_type": "code",
   "execution_count": 86,
   "id": "14286b05-0a58-49cb-9d4c-02f41c587f4c",
   "metadata": {},
   "outputs": [
    {
     "name": "stdout",
     "output_type": "stream",
     "text": [
      "False\n"
     ]
    }
   ],
   "source": [
    "is_integer_result = 100 % 15 == 0\n",
    "print(is_integer_result)\n"
   ]
  },
  {
   "cell_type": "code",
   "execution_count": 87,
   "id": "149aac1d-0556-4393-b366-f08e95588c70",
   "metadata": {},
   "outputs": [
    {
     "name": "stdout",
     "output_type": "stream",
     "text": [
      "4.0\n"
     ]
    }
   ],
   "source": [
    "square_root = 16 ** 0.5\n",
    "print(square_root)\n"
   ]
  },
  {
   "cell_type": "code",
   "execution_count": 88,
   "id": "f2fe9c4e-9942-410d-b7fd-0f8d1f9e4b4d",
   "metadata": {},
   "outputs": [
    {
     "name": "stdout",
     "output_type": "stream",
     "text": [
      "10\n"
     ]
    }
   ],
   "source": [
    "binary_str = '1010'\n",
    "decimal_num = 0\n",
    "for digit in binary_str:\n",
    "    decimal_num = decimal_num * 2 + int(digit)\n",
    "print(decimal_num)\n"
   ]
  },
  {
   "cell_type": "code",
   "execution_count": 89,
   "id": "16ffae58-80e2-40e3-b5a7-7fcf83cfbaf3",
   "metadata": {},
   "outputs": [
    {
     "name": "stdout",
     "output_type": "stream",
     "text": [
      "456.123\n"
     ]
    }
   ],
   "source": [
    "float_num = 123.456\n",
    "integer_part = int(float_num)\n",
    "decimal_part = int((float_num - integer_part) * 1000)\n",
    "swapped_num = decimal_part + integer_part / 1000\n",
    "print(swapped_num)\n"
   ]
  },
  {
   "cell_type": "code",
   "execution_count": 90,
   "id": "75e486bd-5d73-4ef7-9a31-f48fff2ce457",
   "metadata": {},
   "outputs": [
    {
     "name": "stdout",
     "output_type": "stream",
     "text": [
      "124.456\n"
     ]
    }
   ],
   "source": [
    "float_num = 123.456\n",
    "integer_part = int(float_num) + 1\n",
    "decimal_part = float_num - int(float_num)\n",
    "incremented_num = integer_part + decimal_part\n",
    "print(incremented_num)\n"
   ]
  },
  {
   "cell_type": "code",
   "execution_count": 91,
   "id": "690903e1-3f98-4177-a9e9-143353671d4e",
   "metadata": {},
   "outputs": [],
   "source": [
    "# The output will be False due to floating-point precision issues. \n",
    "# 0.1 + 0.2 will not precisely equal 0.3 due to the way floating-point numbers are represented in computers.\n"
   ]
  },
  {
   "cell_type": "code",
   "execution_count": 92,
   "id": "1a75d4aa-4e3b-4c4d-81b9-cb9b66948f51",
   "metadata": {},
   "outputs": [
    {
     "name": "stdout",
     "output_type": "stream",
     "text": [
      "1010\n"
     ]
    }
   ],
   "source": [
    "def decimal_to_binary(num):\n",
    "    binary_str = ''\n",
    "    while num > 0:\n",
    "        binary_str = str(num % 2) + binary_str\n",
    "        num //= 2\n",
    "    return binary_str\n",
    "\n",
    "# Example\n",
    "print(decimal_to_binary(10))\n"
   ]
  },
  {
   "cell_type": "code",
   "execution_count": 93,
   "id": "6e15d217-4617-471b-81e5-23e1e7330e13",
   "metadata": {},
   "outputs": [
    {
     "name": "stdout",
     "output_type": "stream",
     "text": [
      "True\n"
     ]
    }
   ],
   "source": [
    "def is_power_of_two(n):\n",
    "    return n & (n - 1) == 0 and n != 0\n",
    "\n",
    "# Example\n",
    "print(is_power_of_two(16))\n"
   ]
  },
  {
   "cell_type": "code",
   "execution_count": 94,
   "id": "1d4f6ac1-f9f5-4dd3-965d-1a26a88a79f1",
   "metadata": {},
   "outputs": [
    {
     "name": "stdout",
     "output_type": "stream",
     "text": [
      "123\n"
     ]
    }
   ],
   "source": [
    "float_num = 123.456\n",
    "int_num = int(float_num)\n",
    "print(int_num)\n"
   ]
  },
  {
   "cell_type": "code",
   "execution_count": 96,
   "id": "dcc0539c-5c2e-4d8c-a911-9cc75e0de1a8",
   "metadata": {},
   "outputs": [
    {
     "name": "stdout",
     "output_type": "stream",
     "text": [
      "10\n"
     ]
    }
   ],
   "source": [
    "binary_str = '1010'\n",
    "decimal_num = int(binary_str, 2)\n",
    "print(decimal_num)\n"
   ]
  },
  {
   "cell_type": "code",
   "execution_count": 97,
   "id": "413160d1-ee5b-456a-9b4e-bdd656bba5fd",
   "metadata": {},
   "outputs": [
    {
     "name": "stdout",
     "output_type": "stream",
     "text": [
      "3.0\n"
     ]
    }
   ],
   "source": [
    "square_root = 9 ** 0.5\n",
    "print(square_root)\n"
   ]
  },
  {
   "cell_type": "code",
   "execution_count": 98,
   "id": "312b31ed-8dfd-4266-ab4a-cb45092d390e",
   "metadata": {},
   "outputs": [
    {
     "name": "stdout",
     "output_type": "stream",
     "text": [
      "37\n"
     ]
    }
   ],
   "source": [
    "import random\n",
    "random_num = random.randint(1, 100)\n",
    "print(random_num)\n"
   ]
  },
  {
   "cell_type": "code",
   "execution_count": 99,
   "id": "e423cd40-7ce7-4870-9e37-7c0a956715da",
   "metadata": {},
   "outputs": [
    {
     "name": "stdout",
     "output_type": "stream",
     "text": [
      "1111011\n"
     ]
    }
   ],
   "source": [
    "int_num = 123\n",
    "binary_str = bin(int_num)[2:]\n",
    "print(binary_str)\n"
   ]
  },
  {
   "cell_type": "code",
   "execution_count": 100,
   "id": "7a3875d3-313c-4ff5-b33b-5e21522f3eb7",
   "metadata": {},
   "outputs": [
    {
     "name": "stdout",
     "output_type": "stream",
     "text": [
      "Real part: 3.0\n",
      "Imaginary part: 4.0\n"
     ]
    }
   ],
   "source": [
    "complex_num = 3 + 4j\n",
    "real_part = complex_num.real\n",
    "imaginary_part = complex_num.imag\n",
    "print(\"Real part:\", real_part)\n",
    "print(\"Imaginary part:\", imaginary_part)\n"
   ]
  },
  {
   "cell_type": "code",
   "execution_count": 101,
   "id": "b38b2c76-eb62-48bc-9d92-dd2a9a3ac925",
   "metadata": {},
   "outputs": [
    {
     "name": "stdout",
     "output_type": "stream",
     "text": [
      "10/3\n"
     ]
    }
   ],
   "source": [
    "from fractions import Fraction\n",
    "fraction_result = str(Fraction(10, 3))\n",
    "print(fraction_result)\n"
   ]
  },
  {
   "cell_type": "code",
   "execution_count": 102,
   "id": "e7d535e0-7321-4d3d-9496-b2c2bd96142e",
   "metadata": {},
   "outputs": [
    {
     "name": "stdout",
     "output_type": "stream",
     "text": [
      "6\n"
     ]
    }
   ],
   "source": [
    "x = 5\n",
    "incremented_x = x + 1\n",
    "print(incremented_x)\n"
   ]
  },
  {
   "cell_type": "code",
   "execution_count": null,
   "id": "51dcefe8-391f-41cd-8101-54678cb0e4ba",
   "metadata": {},
   "outputs": [],
   "source": []
  }
 ],
 "metadata": {
  "kernelspec": {
   "display_name": "Python 3 (ipykernel)",
   "language": "python",
   "name": "python3"
  },
  "language_info": {
   "codemirror_mode": {
    "name": "ipython",
    "version": 3
   },
   "file_extension": ".py",
   "mimetype": "text/x-python",
   "name": "python",
   "nbconvert_exporter": "python",
   "pygments_lexer": "ipython3",
   "version": "3.12.2"
  }
 },
 "nbformat": 4,
 "nbformat_minor": 5
}
